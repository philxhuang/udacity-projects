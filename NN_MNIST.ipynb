{
  "nbformat": 4,
  "nbformat_minor": 0,
  "metadata": {
    "colab": {
      "name": "NN-MNIST.ipynb",
      "version": "0.3.2",
      "provenance": [],
      "collapsed_sections": [],
      "include_colab_link": true
    },
    "kernelspec": {
      "name": "python3",
      "display_name": "Python 3"
    },
    "accelerator": "GPU"
  },
  "cells": [
    {
      "cell_type": "markdown",
      "metadata": {
        "id": "view-in-github",
        "colab_type": "text"
      },
      "source": [
        "<a href=\"https://colab.research.google.com/github/philxhuang/udacity-projects/blob/master/NN_MNIST.ipynb\" target=\"_parent\"><img src=\"https://colab.research.google.com/assets/colab-badge.svg\" alt=\"Open In Colab\"/></a>"
      ]
    },
    {
      "cell_type": "code",
      "metadata": {
        "id": "EpInqa9M4i35",
        "colab_type": "code",
        "colab": {}
      },
      "source": [
        ""
      ],
      "execution_count": 0,
      "outputs": []
    },
    {
      "cell_type": "markdown",
      "metadata": {
        "id": "wo9CoT4E4lSl",
        "colab_type": "text"
      },
      "source": [
        "# Neural Networks in MNIST Dataset"
      ]
    },
    {
      "cell_type": "code",
      "metadata": {
        "id": "-SFZgpE74wNZ",
        "colab_type": "code",
        "colab": {}
      },
      "source": [
        "%matplotlib inline\n",
        "%config InlineBackend.figure_format = 'retina'\n",
        "\n",
        "import torch\n",
        "import torchvision\n",
        "from torchvision import datasets, transforms\n",
        "\n",
        "import helper\n",
        "\n",
        "import numpy as np\n",
        "import matplotlib.pyplot as plt"
      ],
      "execution_count": 0,
      "outputs": []
    },
    {
      "cell_type": "code",
      "metadata": {
        "id": "_p2mT0zya8c-",
        "colab_type": "code",
        "colab": {}
      },
      "source": [
        "# function for visualizing results\n",
        "def view_classify(img, ps, version=\"MNIST\"):\n",
        "   ''' Function for viewing an image and it's predicted classes.\n",
        "   '''\n",
        "   ps = ps.data.numpy().squeeze()\n",
        "\n",
        "   fig, (ax1, ax2) = plt.subplots(figsize=(6,9), ncols=2)\n",
        "   ax1.imshow(img.resize_(1, 28, 28).numpy().squeeze())\n",
        "   ax1.axis('off')\n",
        "   ax2.barh(np.arange(10), ps)\n",
        "   ax2.set_aspect(0.1)\n",
        "   ax2.set_yticks(np.arange(10))\n",
        "   if version == \"MNIST\":\n",
        "       ax2.set_yticklabels(np.arange(10))\n",
        "   elif version == \"Fashion\":\n",
        "       ax2.set_yticklabels(['T-shirt/top',\n",
        "                           'Trouser',\n",
        "                           'Pullover',\n",
        "                           'Dress',\n",
        "                           'Coat',\n",
        "                           'Sandal',\n",
        "                           'Shirt',\n",
        "                           'Sneaker',\n",
        "                           'Bag',\n",
        "                           'Ankle Boot'], size='small');\n",
        "   ax2.set_title('Class Probability')\n",
        "   ax2.set_xlim(0, 1.1)\n",
        "\n",
        "   plt.tight_layout()"
      ],
      "execution_count": 0,
      "outputs": []
    },
    {
      "cell_type": "code",
      "metadata": {
        "id": "TKBJbunQ4zxq",
        "colab_type": "code",
        "outputId": "add8d1db-0a17-4e4f-c033-83033fe24510",
        "colab": {
          "base_uri": "https://localhost:8080/",
          "height": 263
        }
      },
      "source": [
        "# Define a transform to normalize the data\n",
        "transform = transforms.Compose([transforms.ToTensor(),\n",
        "                              transforms.Normalize((0.5,), (0.5,)),\n",
        "                              ])\n",
        "# Download and load the training data\n",
        "trainset = datasets.MNIST('~/.pytorch/MNIST_data/', download=True, train=True, transform=transform)\n",
        "trainloader = torch.utils.data.DataLoader(trainset, batch_size=64, shuffle=True)"
      ],
      "execution_count": 0,
      "outputs": [
        {
          "output_type": "stream",
          "text": [
            "\r0it [00:00, ?it/s]"
          ],
          "name": "stderr"
        },
        {
          "output_type": "stream",
          "text": [
            "Downloading http://yann.lecun.com/exdb/mnist/train-images-idx3-ubyte.gz to /root/.pytorch/MNIST_data/MNIST/raw/train-images-idx3-ubyte.gz\n"
          ],
          "name": "stdout"
        },
        {
          "output_type": "stream",
          "text": [
            "9920512it [00:02, 3794658.36it/s]                             \n"
          ],
          "name": "stderr"
        },
        {
          "output_type": "stream",
          "text": [
            "Extracting /root/.pytorch/MNIST_data/MNIST/raw/train-images-idx3-ubyte.gz\n"
          ],
          "name": "stdout"
        },
        {
          "output_type": "stream",
          "text": [
            "\r0it [00:00, ?it/s]"
          ],
          "name": "stderr"
        },
        {
          "output_type": "stream",
          "text": [
            "Downloading http://yann.lecun.com/exdb/mnist/train-labels-idx1-ubyte.gz to /root/.pytorch/MNIST_data/MNIST/raw/train-labels-idx1-ubyte.gz\n"
          ],
          "name": "stdout"
        },
        {
          "output_type": "stream",
          "text": [
            "32768it [00:00, 67764.77it/s]                            \n",
            "0it [00:00, ?it/s]"
          ],
          "name": "stderr"
        },
        {
          "output_type": "stream",
          "text": [
            "Extracting /root/.pytorch/MNIST_data/MNIST/raw/train-labels-idx1-ubyte.gz\n",
            "Downloading http://yann.lecun.com/exdb/mnist/t10k-images-idx3-ubyte.gz to /root/.pytorch/MNIST_data/MNIST/raw/t10k-images-idx3-ubyte.gz\n"
          ],
          "name": "stdout"
        },
        {
          "output_type": "stream",
          "text": [
            "1654784it [00:01, 1115449.17it/s]                            \n",
            "0it [00:00, ?it/s]"
          ],
          "name": "stderr"
        },
        {
          "output_type": "stream",
          "text": [
            "Extracting /root/.pytorch/MNIST_data/MNIST/raw/t10k-images-idx3-ubyte.gz\n",
            "Downloading http://yann.lecun.com/exdb/mnist/t10k-labels-idx1-ubyte.gz to /root/.pytorch/MNIST_data/MNIST/raw/t10k-labels-idx1-ubyte.gz\n"
          ],
          "name": "stdout"
        },
        {
          "output_type": "stream",
          "text": [
            "8192it [00:00, 25230.14it/s]            \n"
          ],
          "name": "stderr"
        },
        {
          "output_type": "stream",
          "text": [
            "Extracting /root/.pytorch/MNIST_data/MNIST/raw/t10k-labels-idx1-ubyte.gz\n",
            "Processing...\n",
            "Done!\n"
          ],
          "name": "stdout"
        }
      ]
    },
    {
      "cell_type": "markdown",
      "metadata": {
        "id": "3KHSR1vg5Jes",
        "colab_type": "text"
      },
      "source": [
        "The MNIST dataset comes with the PyTorch Library because it is widely used for model testing. Imported from torchvision, the \"dataset\" module allows us to use this alread downloaded dataset readily.\n",
        "\n",
        "Dataloader allows us to load the data in batch sizes, of 64 in this case. The MNIST dataset (trainset) has a few hundred thousands data rows so training on small batches will be more efficient and increase accuracy over time."
      ]
    },
    {
      "cell_type": "code",
      "metadata": {
        "id": "8wbVGzi36AAB",
        "colab_type": "code",
        "outputId": "2a0d1751-aeaf-446d-8523-e7773a317217",
        "colab": {
          "base_uri": "https://localhost:8080/",
          "height": 70
        }
      },
      "source": [
        "# generate the same results\n",
        "torch.manual_seed(10)\n",
        "\n",
        "images, labels = next(iter(trainloader))\n",
        "print(type(images), type(labels)) # tensor objects\n",
        "print(images.shape) # with 64 images, each image has one channel, each channel has 28 rows and each row has 28 cols (28*28 pixels)\n",
        "print(labels.shape) # a row of 64 labels in order"
      ],
      "execution_count": 0,
      "outputs": [
        {
          "output_type": "stream",
          "text": [
            "<class 'torch.Tensor'> <class 'torch.Tensor'>\n",
            "torch.Size([64, 1, 28, 28])\n",
            "torch.Size([64])\n"
          ],
          "name": "stdout"
        }
      ]
    },
    {
      "cell_type": "code",
      "metadata": {
        "id": "CK4DG2ui7V63",
        "colab_type": "code",
        "outputId": "28cf5303-50ee-46c7-cf30-538d572f46ef",
        "colab": {
          "base_uri": "https://localhost:8080/",
          "height": 285
        }
      },
      "source": [
        "plt.imshow(images[0].numpy().squeeze(), cmap='Greys_r') # let's read the first image"
      ],
      "execution_count": 0,
      "outputs": [
        {
          "output_type": "execute_result",
          "data": {
            "text/plain": [
              "<matplotlib.image.AxesImage at 0x7f5a0b0fa1d0>"
            ]
          },
          "metadata": {
            "tags": []
          },
          "execution_count": 5
        },
        {
          "output_type": "display_data",
          "data": {
            "image/png": "[encoded data removed]",
            "text/plain": [
              "<Figure size 432x288 with 1 Axes>"
            ]
          },
          "metadata": {
            "tags": [],
            "image/png": {
              "width": 253,
              "height": 250
            }
          }
        }
      ]
    },
    {
      "cell_type": "markdown",
      "metadata": {
        "id": "5dIJLfVH7jQk",
        "colab_type": "text"
      },
      "source": [
        "Now we have our pre-cleaned data, we can start building our nn layers."
      ]
    },
    {
      "cell_type": "code",
      "metadata": {
        "id": "mZ0lkBK57oLT",
        "colab_type": "code",
        "outputId": "32657913-7508-4280-b95b-fdb1ac35292b",
        "colab": {
          "base_uri": "https://localhost:8080/",
          "height": 105
        }
      },
      "source": [
        "# This is the sigmoid activation function\n",
        "def activation(x):\n",
        "    return 1/(1+torch.exp(-x))\n",
        "\n",
        "# Flatten the input images\n",
        "print('The batch size is', images.shape[0])\n",
        "inputs = images.view(images.shape[0], -1)\n",
        "\n",
        "# Create parameters for two layers\n",
        "w1 = torch.randn(784, 256) # 784 = 28*28 is the flatten image size in one row\n",
        "b1 = torch.randn(256)\n",
        "\n",
        "w2 = torch.randn(256, 10)\n",
        "b2 = torch.randn(10)\n",
        "\n",
        "# pass through the first layer\n",
        "h = activation(torch.mm(inputs, w1) + b1)\n",
        "print(h.shape)\n",
        "\n",
        "# pass through the second layer\n",
        "out = torch.mm(h, w2) + b2\n",
        "print(out.shape)\n",
        "print('The prediction for the first image is', out[0])"
      ],
      "execution_count": 0,
      "outputs": [
        {
          "output_type": "stream",
          "text": [
            "The batch size is 64\n",
            "torch.Size([64, 256])\n",
            "torch.Size([64, 10])\n",
            "The prediction for the first image is tensor([ -2.3307,   4.3930,   1.5372,  -4.9449,  -0.5049,  -4.9937,   5.1465,\n",
            "        -12.4349,  -0.8891,  17.5090])\n"
          ],
          "name": "stdout"
        }
      ]
    },
    {
      "cell_type": "markdown",
      "metadata": {
        "id": "879DcyXH9Vhi",
        "colab_type": "text"
      },
      "source": [
        "The output here is NOT the probability of each of the 10 images. Rather, it is the resulting weights of each of the 10 options from the nn, calculated through random weight matrices of the 2 layers.\n",
        "\n",
        "In order to translate these nonsense numbers to probability, we use the softmax function. Note that there are many more such probability functions today, since softmax is relatively old."
      ]
    },
    {
      "cell_type": "code",
      "metadata": {
        "id": "bplSj4ul7o3T",
        "colab_type": "code",
        "outputId": "ab500526-9b0b-4b62-d6f0-dee37a86b578",
        "colab": {
          "base_uri": "https://localhost:8080/",
          "height": 175
        }
      },
      "source": [
        "def softmax(x):\n",
        "    return torch.exp(x)/torch.sum(torch.exp(x), dim=1).view(-1, 1)\n",
        "\n",
        "probabilities = softmax(out)\n",
        "\n",
        "# Does it have the right shape? Should be (64, 10)\n",
        "print(probabilities.shape)\n",
        "# Does it sum to 1?\n",
        "print(probabilities.sum(dim=1))"
      ],
      "execution_count": 0,
      "outputs": [
        {
          "output_type": "stream",
          "text": [
            "torch.Size([64, 10])\n",
            "tensor([1.0000, 1.0000, 1.0000, 1.0000, 1.0000, 1.0000, 1.0000, 1.0000, 1.0000,\n",
            "        1.0000, 1.0000, 1.0000, 1.0000, 1.0000, 1.0000, 1.0000, 1.0000, 1.0000,\n",
            "        1.0000, 1.0000, 1.0000, 1.0000, 1.0000, 1.0000, 1.0000, 1.0000, 1.0000,\n",
            "        1.0000, 1.0000, 1.0000, 1.0000, 1.0000, 1.0000, 1.0000, 1.0000, 1.0000,\n",
            "        1.0000, 1.0000, 1.0000, 1.0000, 1.0000, 1.0000, 1.0000, 1.0000, 1.0000,\n",
            "        1.0000, 1.0000, 1.0000, 1.0000, 1.0000, 1.0000, 1.0000, 1.0000, 1.0000,\n",
            "        1.0000, 1.0000, 1.0000, 1.0000, 1.0000, 1.0000, 1.0000, 1.0000, 1.0000,\n",
            "        1.0000])\n"
          ],
          "name": "stdout"
        }
      ]
    },
    {
      "cell_type": "markdown",
      "metadata": {
        "id": "AmQ2AIs1981h",
        "colab_type": "text"
      },
      "source": [
        "# Building the same NN with PyTorch OOP"
      ]
    },
    {
      "cell_type": "markdown",
      "metadata": {
        "id": "sKxHuuFA-HPB",
        "colab_type": "text"
      },
      "source": [
        "Now that we know how to consruct the networks by layers internally, let's use the super power of PyTorch's Object-Orianted Programming Library to create NN simply."
      ]
    },
    {
      "cell_type": "code",
      "metadata": {
        "id": "3ffy7--W-UD1",
        "colab_type": "code",
        "colab": {}
      },
      "source": [
        "from torch import nn"
      ],
      "execution_count": 0,
      "outputs": []
    },
    {
      "cell_type": "code",
      "metadata": {
        "id": "apssgwWZ-YBh",
        "colab_type": "code",
        "colab": {}
      },
      "source": [
        "class Network(nn.Module):\n",
        "    def __init__(self):\n",
        "        super().__init__() # you should definitely inherite the Object that comes with PyTorch\n",
        "        \n",
        "        # Inputs to hidden layer linear transformation\n",
        "        self.hidden = nn.Linear(784, 256)\n",
        "        # Output layer, 10 units - one for each digit\n",
        "        self.output = nn.Linear(256, 10)\n",
        "        \n",
        "        # Define sigmoid activation and softmax output \n",
        "        self.sigmoid = nn.Sigmoid()\n",
        "        self.softmax = nn.Softmax(dim=1)\n",
        "        \n",
        "    def forward(self, x):\n",
        "        # Pass the input tensor through each of our operations\n",
        "        x = self.hidden(x)\n",
        "        x = self.sigmoid(x)\n",
        "        x = self.output(x)\n",
        "        x = self.softmax(x)\n",
        "        \n",
        "        return x"
      ],
      "execution_count": 0,
      "outputs": []
    },
    {
      "cell_type": "code",
      "metadata": {
        "id": "QWuGr-tz-YlH",
        "colab_type": "code",
        "outputId": "935f6fe5-23a3-4e67-e837-6c253f868127",
        "colab": {
          "base_uri": "https://localhost:8080/",
          "height": 123
        }
      },
      "source": [
        "# Create the network and look at it's text representation\n",
        "model = Network()\n",
        "model"
      ],
      "execution_count": 0,
      "outputs": [
        {
          "output_type": "execute_result",
          "data": {
            "text/plain": [
              "Network(\n",
              "  (hidden): Linear(in_features=784, out_features=256, bias=True)\n",
              "  (output): Linear(in_features=256, out_features=10, bias=True)\n",
              "  (sigmoid): Sigmoid()\n",
              "  (softmax): Softmax()\n",
              ")"
            ]
          },
          "metadata": {
            "tags": []
          },
          "execution_count": 10
        }
      ]
    },
    {
      "cell_type": "markdown",
      "metadata": {
        "id": "35uHtG-PAUTW",
        "colab_type": "text"
      },
      "source": [
        "This is the hard and old way to construct model. Today torch comes with both OOP nn and F functions for you to play with. Make sure to import both every single time."
      ]
    },
    {
      "cell_type": "code",
      "metadata": {
        "id": "kaSko6mb_AMV",
        "colab_type": "code",
        "colab": {}
      },
      "source": [
        "import torch.nn.functional as F\n",
        "\n",
        "class Network(nn.Module):\n",
        "    def __init__(self):\n",
        "        super().__init__()\n",
        "        # Inputs to hidden layer linear transformation\n",
        "        self.hidden = nn.Linear(784, 256)\n",
        "        # Output layer, 10 units - one for each digit\n",
        "        self.output = nn.Linear(256, 10)\n",
        "        \n",
        "    def forward(self, x):\n",
        "        # Hidden layer with sigmoid activation\n",
        "        x = F.sigmoid(self.hidden(x))\n",
        "        # Output layer with softmax activation\n",
        "        x = F.softmax(self.output(x), dim=1)\n",
        "        \n",
        "        return x"
      ],
      "execution_count": 0,
      "outputs": []
    },
    {
      "cell_type": "markdown",
      "metadata": {
        "id": "Nr5-GNfhAwuu",
        "colab_type": "text"
      },
      "source": [
        "That was cleaner. However, today we don't even use sigmoid any more. Let's use ReLU."
      ]
    },
    {
      "cell_type": "code",
      "metadata": {
        "id": "aB76JHtbA92E",
        "colab_type": "code",
        "outputId": "dd21ca76-b30a-4590-f8bb-5cca3ac3cb98",
        "colab": {
          "base_uri": "https://localhost:8080/",
          "height": 105
        }
      },
      "source": [
        "class Network(nn.Module):\n",
        "    def __init__(self):\n",
        "        super().__init__()\n",
        "        # Defining the layers, 128, 64, 10 units each\n",
        "        self.fc1 = nn.Linear(784, 128)\n",
        "        self.fc2 = nn.Linear(128, 64)\n",
        "        # Output layer, 10 units - one for each digit\n",
        "        self.fc3 = nn.Linear(64, 10)\n",
        "        \n",
        "    def forward(self, x):\n",
        "        ''' Forward pass through the network, returns the output logits '''\n",
        "        \n",
        "        x = self.fc1(x)\n",
        "        x = F.relu(x)\n",
        "        x = self.fc2(x)\n",
        "        x = F.relu(x)\n",
        "        x = self.fc3(x)\n",
        "        x = F.softmax(x, dim=1)\n",
        "        \n",
        "        return x\n",
        "\n",
        "model = Network()\n",
        "model"
      ],
      "execution_count": 0,
      "outputs": [
        {
          "output_type": "execute_result",
          "data": {
            "text/plain": [
              "Network(\n",
              "  (fc1): Linear(in_features=784, out_features=128, bias=True)\n",
              "  (fc2): Linear(in_features=128, out_features=64, bias=True)\n",
              "  (fc3): Linear(in_features=64, out_features=10, bias=True)\n",
              ")"
            ]
          },
          "metadata": {
            "tags": []
          },
          "execution_count": 12
        }
      ]
    },
    {
      "cell_type": "markdown",
      "metadata": {
        "id": "2DWL9Fx0BUz5",
        "colab_type": "text"
      },
      "source": [
        "Now for this model, let's reinitialize the randomly generaly weights and biases in the 3 layers."
      ]
    },
    {
      "cell_type": "code",
      "metadata": {
        "id": "Y0ZSsNazBcfX",
        "colab_type": "code",
        "outputId": "b21eed96-3deb-4544-eb42-67938cd63dc5",
        "colab": {
          "base_uri": "https://localhost:8080/",
          "height": 492
        }
      },
      "source": [
        "print(model.fc1.weight)\n",
        "print(model.fc1.bias) # gradient is turne on by default"
      ],
      "execution_count": 0,
      "outputs": [
        {
          "output_type": "stream",
          "text": [
            "Parameter containing:\n",
            "tensor([[ 0.0077,  0.0267,  0.0192,  ..., -0.0185, -0.0220,  0.0118],\n",
            "        [ 0.0096,  0.0132, -0.0093,  ..., -0.0131,  0.0241,  0.0300],\n",
            "        [ 0.0161,  0.0341, -0.0113,  ..., -0.0042, -0.0169,  0.0340],\n",
            "        ...,\n",
            "        [ 0.0056,  0.0157, -0.0299,  ..., -0.0257, -0.0049,  0.0174],\n",
            "        [ 0.0234, -0.0221,  0.0267,  ...,  0.0239, -0.0289,  0.0134],\n",
            "        [-0.0120, -0.0026,  0.0034,  ...,  0.0004,  0.0319,  0.0231]],\n",
            "       requires_grad=True)\n",
            "Parameter containing:\n",
            "tensor([ 0.0055,  0.0063,  0.0224, -0.0258,  0.0173, -0.0202, -0.0124,  0.0057,\n",
            "         0.0340,  0.0350,  0.0194, -0.0248,  0.0053,  0.0178,  0.0067,  0.0339,\n",
            "         0.0355,  0.0031, -0.0055,  0.0007,  0.0243,  0.0313, -0.0059,  0.0222,\n",
            "        -0.0254, -0.0030, -0.0170,  0.0045, -0.0021,  0.0164,  0.0070,  0.0298,\n",
            "         0.0240, -0.0151,  0.0267,  0.0038, -0.0311,  0.0190,  0.0299,  0.0274,\n",
            "         0.0223,  0.0267, -0.0275,  0.0220, -0.0314, -0.0008, -0.0233,  0.0111,\n",
            "        -0.0038, -0.0075, -0.0232, -0.0025,  0.0176, -0.0343,  0.0124,  0.0055,\n",
            "        -0.0331,  0.0244, -0.0032,  0.0066, -0.0068,  0.0193,  0.0220,  0.0352,\n",
            "        -0.0190, -0.0211,  0.0080, -0.0025,  0.0081, -0.0019,  0.0324, -0.0064,\n",
            "         0.0145, -0.0082, -0.0021,  0.0135,  0.0307, -0.0303,  0.0086, -0.0326,\n",
            "         0.0249,  0.0085, -0.0128,  0.0084,  0.0204, -0.0034, -0.0211,  0.0207,\n",
            "         0.0309, -0.0059,  0.0285, -0.0353,  0.0011,  0.0087,  0.0310,  0.0069,\n",
            "        -0.0321,  0.0169, -0.0032,  0.0131,  0.0176, -0.0030, -0.0199, -0.0329,\n",
            "         0.0296, -0.0064,  0.0029, -0.0159, -0.0349,  0.0224,  0.0326, -0.0213,\n",
            "        -0.0301, -0.0290, -0.0120, -0.0356, -0.0194,  0.0183, -0.0181, -0.0141,\n",
            "         0.0131,  0.0162, -0.0209, -0.0283,  0.0204,  0.0131, -0.0306, -0.0006],\n",
            "       requires_grad=True)\n"
          ],
          "name": "stdout"
        }
      ]
    },
    {
      "cell_type": "code",
      "metadata": {
        "id": "9vYldrdqBklx",
        "colab_type": "code",
        "outputId": "788967b6-18c2-4b33-95ae-ba37499c4320",
        "colab": {
          "base_uri": "https://localhost:8080/",
          "height": 123
        }
      },
      "source": [
        "# Set biases to all zeros\n",
        "model.fc1.bias.data.fill_(0)"
      ],
      "execution_count": 0,
      "outputs": [
        {
          "output_type": "execute_result",
          "data": {
            "text/plain": [
              "tensor([0., 0., 0., 0., 0., 0., 0., 0., 0., 0., 0., 0., 0., 0., 0., 0., 0., 0., 0., 0., 0., 0., 0., 0.,\n",
              "        0., 0., 0., 0., 0., 0., 0., 0., 0., 0., 0., 0., 0., 0., 0., 0., 0., 0., 0., 0., 0., 0., 0., 0.,\n",
              "        0., 0., 0., 0., 0., 0., 0., 0., 0., 0., 0., 0., 0., 0., 0., 0., 0., 0., 0., 0., 0., 0., 0., 0.,\n",
              "        0., 0., 0., 0., 0., 0., 0., 0., 0., 0., 0., 0., 0., 0., 0., 0., 0., 0., 0., 0., 0., 0., 0., 0.,\n",
              "        0., 0., 0., 0., 0., 0., 0., 0., 0., 0., 0., 0., 0., 0., 0., 0., 0., 0., 0., 0., 0., 0., 0., 0.,\n",
              "        0., 0., 0., 0., 0., 0., 0., 0.])"
            ]
          },
          "metadata": {
            "tags": []
          },
          "execution_count": 14
        }
      ]
    },
    {
      "cell_type": "code",
      "metadata": {
        "id": "UH1Gcb7XByZr",
        "colab_type": "code",
        "outputId": "d7858c8b-e6ff-4245-db12-ace61a82a1c3",
        "colab": {
          "base_uri": "https://localhost:8080/",
          "height": 140
        }
      },
      "source": [
        "# sample from random normal with standard dev = 0.01\n",
        "model.fc1.weight.data.normal_(std=0.01)"
      ],
      "execution_count": 0,
      "outputs": [
        {
          "output_type": "execute_result",
          "data": {
            "text/plain": [
              "tensor([[-0.0051, -0.0171,  0.0084,  ...,  0.0116, -0.0147,  0.0094],\n",
              "        [ 0.0068, -0.0064, -0.0048,  ...,  0.0039,  0.0143, -0.0006],\n",
              "        [ 0.0018,  0.0042,  0.0013,  ...,  0.0017, -0.0102,  0.0054],\n",
              "        ...,\n",
              "        [-0.0032, -0.0059,  0.0028,  ..., -0.0132,  0.0009,  0.0115],\n",
              "        [ 0.0100,  0.0086, -0.0068,  ..., -0.0002, -0.0125,  0.0031],\n",
              "        [-0.0004,  0.0032, -0.0026,  ...,  0.0030, -0.0010,  0.0074]])"
            ]
          },
          "metadata": {
            "tags": []
          },
          "execution_count": 15
        }
      ]
    },
    {
      "cell_type": "markdown",
      "metadata": {
        "id": "bnRxb_TyB7mG",
        "colab_type": "text"
      },
      "source": [
        "Now we are ready for forward passes."
      ]
    },
    {
      "cell_type": "code",
      "metadata": {
        "id": "ODN43UOkB2jU",
        "colab_type": "code",
        "outputId": "b1dc174d-14f3-49b1-b001-357a0cb61383",
        "colab": {
          "base_uri": "https://localhost:8080/",
          "height": 278
        }
      },
      "source": [
        "# Grab some data \n",
        "images, labels = next(iter(trainloader))\n",
        "\n",
        "# Resize images into a 1D vector, new shape is (batch size, color channels, image pixels) \n",
        "images.resize_(64, 1, 784)\n",
        "# or images.resize_(images.shape[0], 1, 784) to automatically get batch size\n",
        "\n",
        "# Forward pass through the network\n",
        "img_idx = 0\n",
        "ps = model.forward(images[img_idx,:])\n",
        "print('The probability of each image predicted for the first image', ps)\n",
        "\n",
        "img = images[img_idx]\n",
        "view_classify(img.view(1, 28, 28), ps)"
      ],
      "execution_count": 0,
      "outputs": [
        {
          "output_type": "stream",
          "text": [
            "The probability of each image predicted for the first image tensor([[0.1125, 0.0973, 0.0885, 0.0920, 0.0975, 0.0990, 0.1017, 0.0995, 0.1105,\n",
            "         0.1017]], grad_fn=<SoftmaxBackward>)\n"
          ],
          "name": "stdout"
        },
        {
          "output_type": "display_data",
          "data": {
            "image/png": "[encoded data removed]",
            "text/plain": [
              "<Figure size 432x648 with 2 Axes>"
            ]
          },
          "metadata": {
            "tags": [],
            "image/png": {
              "width": 423,
              "height": 226
            }
          }
        }
      ]
    },
    {
      "cell_type": "markdown",
      "metadata": {
        "id": "zMDqik5dFmKt",
        "colab_type": "text"
      },
      "source": [
        "## Sequential NN for MNIST"
      ]
    },
    {
      "cell_type": "code",
      "metadata": {
        "id": "Ai9o35yFB_Q2",
        "colab_type": "code",
        "outputId": "607a6f0a-56d1-4bc9-b489-35e5a16829c6",
        "colab": {
          "base_uri": "https://localhost:8080/",
          "height": 384
        }
      },
      "source": [
        "# Build a feed-forward network\n",
        "model = nn.Sequential(nn.Linear(784, 128),\n",
        "                      nn.ReLU(),\n",
        "                      nn.Linear(128, 64),\n",
        "                      nn.ReLU(),\n",
        "                      nn.Linear(64, 10),\n",
        "                      nn.Softmax(dim=1))\n",
        "print(model)\n",
        "\n",
        "# Forward pass through the network and display output\n",
        "images, labels = next(iter(trainloader))\n",
        "images.resize_(images.shape[0], 1, 784)\n",
        "\n",
        "ps = model.forward(images[0,:])\n",
        "\n",
        "img = images[img_idx]\n",
        "view_classify(img.view(1, 28, 28), ps)"
      ],
      "execution_count": 0,
      "outputs": [
        {
          "output_type": "stream",
          "text": [
            "Sequential(\n",
            "  (0): Linear(in_features=784, out_features=128, bias=True)\n",
            "  (1): ReLU()\n",
            "  (2): Linear(in_features=128, out_features=64, bias=True)\n",
            "  (3): ReLU()\n",
            "  (4): Linear(in_features=64, out_features=10, bias=True)\n",
            "  (5): Softmax()\n",
            ")\n"
          ],
          "name": "stdout"
        },
        {
          "output_type": "display_data",
          "data": {
            "image/png": "[encoded data removed]",
            "text/plain": [
              "<Figure size 432x648 with 2 Axes>"
            ]
          },
          "metadata": {
            "tags": [],
            "image/png": {
              "width": 423,
              "height": 226
            }
          }
        }
      ]
    },
    {
      "cell_type": "code",
      "metadata": {
        "id": "3j1lMMEVFwNk",
        "colab_type": "code",
        "outputId": "6a0acd88-6c4a-4703-f0a0-11c6d5ce1be0",
        "colab": {
          "base_uri": "https://localhost:8080/",
          "height": 193
        }
      },
      "source": [
        "print(model[0])\n",
        "model[0].weight"
      ],
      "execution_count": 0,
      "outputs": [
        {
          "output_type": "stream",
          "text": [
            "Linear(in_features=784, out_features=128, bias=True)\n"
          ],
          "name": "stdout"
        },
        {
          "output_type": "execute_result",
          "data": {
            "text/plain": [
              "Parameter containing:\n",
              "tensor([[ 0.0024, -0.0196, -0.0047,  ...,  0.0118, -0.0055, -0.0247],\n",
              "        [ 0.0308,  0.0136,  0.0276,  ..., -0.0188,  0.0129,  0.0139],\n",
              "        [ 0.0320,  0.0288,  0.0337,  ..., -0.0053,  0.0334, -0.0253],\n",
              "        ...,\n",
              "        [-0.0079,  0.0155,  0.0141,  ..., -0.0035,  0.0033, -0.0052],\n",
              "        [-0.0168,  0.0286,  0.0188,  ...,  0.0253, -0.0230, -0.0013],\n",
              "        [-0.0323,  0.0225, -0.0160,  ...,  0.0335,  0.0180, -0.0261]],\n",
              "       requires_grad=True)"
            ]
          },
          "metadata": {
            "tags": []
          },
          "execution_count": 18
        }
      ]
    },
    {
      "cell_type": "markdown",
      "metadata": {
        "id": "LgeaiegZGyHQ",
        "colab_type": "text"
      },
      "source": [
        "We could also access the individual functions this way:"
      ]
    },
    {
      "cell_type": "code",
      "metadata": {
        "id": "905KO8FEG7LQ",
        "colab_type": "code",
        "outputId": "930e40a4-537d-451b-c9fd-7b1408f1ea68",
        "colab": {
          "base_uri": "https://localhost:8080/",
          "height": 238
        }
      },
      "source": [
        "from collections import OrderedDict\n",
        "model = nn.Sequential(OrderedDict([\n",
        "                      ('fc1', nn.Linear(input_size, hidden_sizes[0])),\n",
        "                      ('relu1', nn.ReLU()),\n",
        "                      ('fc2', nn.Linear(hidden_sizes[0], hidden_sizes[1])),\n",
        "                      ('relu2', nn.ReLU()),\n",
        "                      ('output', nn.Linear(hidden_sizes[1], output_size)),\n",
        "                      ('softmax', nn.Softmax(dim=1))]))\n",
        "model"
      ],
      "execution_count": 0,
      "outputs": [
        {
          "output_type": "error",
          "ename": "NameError",
          "evalue": "ignored",
          "traceback": [
            "\u001b[0;31m---------------------------------------------------------------------------\u001b[0m",
            "\u001b[0;31mNameError\u001b[0m                                 Traceback (most recent call last)",
            "\u001b[0;32m<ipython-input-19-9f13b5651e56>\u001b[0m in \u001b[0;36m<module>\u001b[0;34m()\u001b[0m\n\u001b[1;32m      1\u001b[0m \u001b[0;32mfrom\u001b[0m \u001b[0mcollections\u001b[0m \u001b[0;32mimport\u001b[0m \u001b[0mOrderedDict\u001b[0m\u001b[0;34m\u001b[0m\u001b[0;34m\u001b[0m\u001b[0m\n\u001b[1;32m      2\u001b[0m model = nn.Sequential(OrderedDict([\n\u001b[0;32m----> 3\u001b[0;31m                       \u001b[0;34m(\u001b[0m\u001b[0;34m'fc1'\u001b[0m\u001b[0;34m,\u001b[0m \u001b[0mnn\u001b[0m\u001b[0;34m.\u001b[0m\u001b[0mLinear\u001b[0m\u001b[0;34m(\u001b[0m\u001b[0minput_size\u001b[0m\u001b[0;34m,\u001b[0m \u001b[0mhidden_sizes\u001b[0m\u001b[0;34m[\u001b[0m\u001b[0;36m0\u001b[0m\u001b[0;34m]\u001b[0m\u001b[0;34m)\u001b[0m\u001b[0;34m)\u001b[0m\u001b[0;34m,\u001b[0m\u001b[0;34m\u001b[0m\u001b[0;34m\u001b[0m\u001b[0m\n\u001b[0m\u001b[1;32m      4\u001b[0m                       \u001b[0;34m(\u001b[0m\u001b[0;34m'relu1'\u001b[0m\u001b[0;34m,\u001b[0m \u001b[0mnn\u001b[0m\u001b[0;34m.\u001b[0m\u001b[0mReLU\u001b[0m\u001b[0;34m(\u001b[0m\u001b[0;34m)\u001b[0m\u001b[0;34m)\u001b[0m\u001b[0;34m,\u001b[0m\u001b[0;34m\u001b[0m\u001b[0;34m\u001b[0m\u001b[0m\n\u001b[1;32m      5\u001b[0m                       \u001b[0;34m(\u001b[0m\u001b[0;34m'fc2'\u001b[0m\u001b[0;34m,\u001b[0m \u001b[0mnn\u001b[0m\u001b[0;34m.\u001b[0m\u001b[0mLinear\u001b[0m\u001b[0;34m(\u001b[0m\u001b[0mhidden_sizes\u001b[0m\u001b[0;34m[\u001b[0m\u001b[0;36m0\u001b[0m\u001b[0;34m]\u001b[0m\u001b[0;34m,\u001b[0m \u001b[0mhidden_sizes\u001b[0m\u001b[0;34m[\u001b[0m\u001b[0;36m1\u001b[0m\u001b[0;34m]\u001b[0m\u001b[0;34m)\u001b[0m\u001b[0;34m)\u001b[0m\u001b[0;34m,\u001b[0m\u001b[0;34m\u001b[0m\u001b[0;34m\u001b[0m\u001b[0m\n",
            "\u001b[0;31mNameError\u001b[0m: name 'input_size' is not defined"
          ]
        }
      ]
    },
    {
      "cell_type": "code",
      "metadata": {
        "id": "MfhbBO1eG8Ju",
        "colab_type": "code",
        "colab": {}
      },
      "source": [
        "print(model[0])\n",
        "print(model.fc1)"
      ],
      "execution_count": 0,
      "outputs": []
    }
  ]
}