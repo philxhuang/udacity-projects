{
  "nbformat": 4,
  "nbformat_minor": 0,
  "metadata": {
    "colab": {
      "name": "3-trainNN.ipynb",
      "version": "0.3.2",
      "provenance": [],
      "collapsed_sections": [],
      "include_colab_link": true
    },
    "kernelspec": {
      "name": "python3",
      "display_name": "Python 3"
    },
    "accelerator": "GPU"
  },
  "cells": [
    {
      "cell_type": "markdown",
      "metadata": {
        "id": "view-in-github",
        "colab_type": "text"
      },
      "source": [
        "<a href=\"https://colab.research.google.com/github/philxhuang/udacity-projects/blob/master/3_trainNN.ipynb\" target=\"_parent\"><img src=\"https://colab.research.google.com/assets/colab-badge.svg\" alt=\"Open In Colab\"/></a>"
      ]
    },
    {
      "cell_type": "markdown",
      "metadata": {
        "id": "W6mo1Cv2HOTh",
        "colab_type": "text"
      },
      "source": [
        "# Train NN with Back-Propagation and Gradient Descent"
      ]
    },
    {
      "cell_type": "code",
      "metadata": {
        "id": "fSWjGkWGHUb-",
        "colab_type": "code",
        "outputId": "426a1325-d9be-4ba6-d97d-11a79f96399a",
        "colab": {
          "base_uri": "https://localhost:8080/",
          "height": 263
        }
      },
      "source": [
        "import torch\n",
        "from torch import nn\n",
        "import torch.nn.functional as F\n",
        "from torchvision import datasets, transforms\n",
        "\n",
        "import helper\n",
        "import numpy as np\n",
        "import matplotlib.pyplot as plt\n",
        "\n",
        "# Define a transform to normalize the data\n",
        "transform = transforms.Compose([transforms.ToTensor(),\n",
        "                                transforms.Normalize((0.5,), (0.5,)),\n",
        "                              ])\n",
        "# Download and load the training data\n",
        "trainset = datasets.MNIST('~/.pytorch/MNIST_data/', download=True, train=True, transform=transform)\n",
        "trainloader = torch.utils.data.DataLoader(trainset, batch_size=64, shuffle=True)"
      ],
      "execution_count": 0,
      "outputs": [
        {
          "output_type": "stream",
          "text": [
            "\r0it [00:00, ?it/s]"
          ],
          "name": "stderr"
        },
        {
          "output_type": "stream",
          "text": [
            "Downloading http://yann.lecun.com/exdb/mnist/train-images-idx3-ubyte.gz to /root/.pytorch/MNIST_data/MNIST/raw/train-images-idx3-ubyte.gz\n"
          ],
          "name": "stdout"
        },
        {
          "output_type": "stream",
          "text": [
            "9920512it [00:01, 8491412.12it/s]                            \n"
          ],
          "name": "stderr"
        },
        {
          "output_type": "stream",
          "text": [
            "Extracting /root/.pytorch/MNIST_data/MNIST/raw/train-images-idx3-ubyte.gz\n"
          ],
          "name": "stdout"
        },
        {
          "output_type": "stream",
          "text": [
            "  0%|          | 0/28881 [00:00<?, ?it/s]"
          ],
          "name": "stderr"
        },
        {
          "output_type": "stream",
          "text": [
            "Downloading http://yann.lecun.com/exdb/mnist/train-labels-idx1-ubyte.gz to /root/.pytorch/MNIST_data/MNIST/raw/train-labels-idx1-ubyte.gz\n"
          ],
          "name": "stdout"
        },
        {
          "output_type": "stream",
          "text": [
            "32768it [00:00, 130483.41it/s]           \n",
            "  0%|          | 0/1648877 [00:00<?, ?it/s]"
          ],
          "name": "stderr"
        },
        {
          "output_type": "stream",
          "text": [
            "Extracting /root/.pytorch/MNIST_data/MNIST/raw/train-labels-idx1-ubyte.gz\n",
            "Downloading http://yann.lecun.com/exdb/mnist/t10k-images-idx3-ubyte.gz to /root/.pytorch/MNIST_data/MNIST/raw/t10k-images-idx3-ubyte.gz\n"
          ],
          "name": "stdout"
        },
        {
          "output_type": "stream",
          "text": [
            "1654784it [00:00, 2141912.16it/s]                            \n",
            "0it [00:00, ?it/s]"
          ],
          "name": "stderr"
        },
        {
          "output_type": "stream",
          "text": [
            "Extracting /root/.pytorch/MNIST_data/MNIST/raw/t10k-images-idx3-ubyte.gz\n",
            "Downloading http://yann.lecun.com/exdb/mnist/t10k-labels-idx1-ubyte.gz to /root/.pytorch/MNIST_data/MNIST/raw/t10k-labels-idx1-ubyte.gz\n"
          ],
          "name": "stdout"
        },
        {
          "output_type": "stream",
          "text": [
            "8192it [00:00, 48702.26it/s]            \n"
          ],
          "name": "stderr"
        },
        {
          "output_type": "stream",
          "text": [
            "Extracting /root/.pytorch/MNIST_data/MNIST/raw/t10k-labels-idx1-ubyte.gz\n",
            "Processing...\n",
            "Done!\n"
          ],
          "name": "stdout"
        }
      ]
    },
    {
      "cell_type": "code",
      "metadata": {
        "id": "dM2rnBL7bTCp",
        "colab_type": "code",
        "colab": {}
      },
      "source": [
        "def view_classify(img, ps, version=\"MNIST\"):\n",
        "   ''' Function for viewing an image and it's predicted classes.\n",
        "   '''\n",
        "   ps = ps.data.numpy().squeeze()\n",
        "\n",
        "   fig, (ax1, ax2) = plt.subplots(figsize=(6,9), ncols=2)\n",
        "   ax1.imshow(img.resize_(1, 28, 28).numpy().squeeze())\n",
        "   ax1.axis('off')\n",
        "   ax2.barh(np.arange(10), ps)\n",
        "   ax2.set_aspect(0.1)\n",
        "   ax2.set_yticks(np.arange(10))\n",
        "   if version == \"MNIST\":\n",
        "       ax2.set_yticklabels(np.arange(10))\n",
        "   elif version == \"Fashion\":\n",
        "       ax2.set_yticklabels(['T-shirt/top',\n",
        "                           'Trouser',\n",
        "                           'Pullover',\n",
        "                           'Dress',\n",
        "                           'Coat',\n",
        "                           'Sandal',\n",
        "                           'Shirt',\n",
        "                           'Sneaker',\n",
        "                           'Bag',\n",
        "                           'Ankle Boot'], size='small');\n",
        "   ax2.set_title('Class Probability')\n",
        "   ax2.set_xlim(0, 1.1)\n",
        "\n",
        "   plt.tight_layout()"
      ],
      "execution_count": 0,
      "outputs": []
    },
    {
      "cell_type": "code",
      "metadata": {
        "id": "ViVTn1zeHUqs",
        "colab_type": "code",
        "outputId": "17a3b916-7a87-4651-f44e-b4dcdd12426e",
        "colab": {
          "base_uri": "https://localhost:8080/",
          "height": 35
        }
      },
      "source": [
        "# Build a feed-forward network\n",
        "model = nn.Sequential(nn.Linear(784, 128),\n",
        "                      nn.ReLU(),\n",
        "                      nn.Linear(128, 64),\n",
        "                      nn.ReLU(),\n",
        "                      nn.Linear(64, 10),\n",
        "                      nn.LogSoftmax(dim=1)\n",
        "                     )\n",
        "\n",
        "# Get our data\n",
        "images, labels = next(iter(trainloader))\n",
        "# Flatten images\n",
        "images = images.view(images.shape[0], -1)\n",
        "print(images.shape)\n",
        "\n",
        "# Forward pass, get our logits\n",
        "logits = model(images)"
      ],
      "execution_count": 0,
      "outputs": [
        {
          "output_type": "stream",
          "text": [
            "torch.Size([64, 784])\n"
          ],
          "name": "stdout"
        }
      ]
    },
    {
      "cell_type": "markdown",
      "metadata": {
        "id": "n3R8MA8lHxtV",
        "colab_type": "text"
      },
      "source": [
        "Now let's use Cross Entropy to calculate loss."
      ]
    },
    {
      "cell_type": "code",
      "metadata": {
        "id": "jBQbdYw8HhLu",
        "colab_type": "code",
        "outputId": "6811cb6f-ea79-4c48-ca38-0fa6cbdbbd81",
        "colab": {
          "base_uri": "https://localhost:8080/",
          "height": 35
        }
      },
      "source": [
        "# Define the loss\n",
        "criterion = nn.CrossEntropyLoss() # or nn.NLLLoss()\n",
        "\n",
        "# Calculate the loss with the logits and the labels\n",
        "loss = criterion(logits, labels)\n",
        "\n",
        "print(loss)"
      ],
      "execution_count": 0,
      "outputs": [
        {
          "output_type": "stream",
          "text": [
            "tensor(2.3192, grad_fn=<NllLossBackward>)\n"
          ],
          "name": "stdout"
        }
      ]
    },
    {
      "cell_type": "code",
      "metadata": {
        "id": "-IUhy28iH1hQ",
        "colab_type": "code",
        "outputId": "db640587-5760-46c6-8b53-f1e9c1a6461c",
        "colab": {
          "base_uri": "https://localhost:8080/",
          "height": 193
        }
      },
      "source": [
        "print('Before backward pass: \\n', model[0].weight.grad)\n",
        "\n",
        "# somehow loss already knows the nn you are using so you can magically call .backward()\n",
        "loss.backward()\n",
        "\n",
        "print('After backward pass: \\n', model[0].weight.grad)"
      ],
      "execution_count": 0,
      "outputs": [
        {
          "output_type": "stream",
          "text": [
            "Before backward pass: \n",
            " None\n",
            "After backward pass: \n",
            " tensor([[ 0.0033,  0.0033,  0.0033,  ...,  0.0033,  0.0033,  0.0033],\n",
            "        [-0.0015, -0.0015, -0.0015,  ..., -0.0015, -0.0015, -0.0015],\n",
            "        [-0.0012, -0.0012, -0.0012,  ..., -0.0012, -0.0012, -0.0012],\n",
            "        ...,\n",
            "        [ 0.0000,  0.0000,  0.0000,  ...,  0.0000,  0.0000,  0.0000],\n",
            "        [-0.0032, -0.0032, -0.0032,  ..., -0.0032, -0.0032, -0.0032],\n",
            "        [ 0.0000,  0.0000,  0.0000,  ...,  0.0000,  0.0000,  0.0000]])\n"
          ],
          "name": "stdout"
        }
      ]
    },
    {
      "cell_type": "markdown",
      "metadata": {
        "id": "_qazNkF8JBlt",
        "colab_type": "text"
      },
      "source": [
        "## Optimizer for B-P"
      ]
    },
    {
      "cell_type": "code",
      "metadata": {
        "id": "2Fcbsl9TIxtJ",
        "colab_type": "code",
        "outputId": "122376a1-ff2e-48fb-c5c7-430a55acfdf7",
        "colab": {
          "base_uri": "https://localhost:8080/",
          "height": 158
        }
      },
      "source": [
        "from torch import optim\n",
        "\n",
        "# Optimizers require the parameters to optimize and a learning rate\n",
        "optimizer = optim.SGD(model.parameters(), lr=0.003)\n",
        "print(optimizer)"
      ],
      "execution_count": 0,
      "outputs": [
        {
          "output_type": "stream",
          "text": [
            "SGD (\n",
            "Parameter Group 0\n",
            "    dampening: 0\n",
            "    lr: 0.003\n",
            "    momentum: 0\n",
            "    nesterov: False\n",
            "    weight_decay: 0\n",
            ")\n"
          ],
          "name": "stdout"
        }
      ]
    },
    {
      "cell_type": "code",
      "metadata": {
        "id": "gjhXC39ZJGi0",
        "colab_type": "code",
        "outputId": "c0dd5997-ef9b-43d5-a732-9eb916dc651a",
        "colab": {
          "base_uri": "https://localhost:8080/",
          "height": 387
        }
      },
      "source": [
        "print('Initial weights - ', model[0].weight)\n",
        "\n",
        "images, labels = next(iter(trainloader))\n",
        "images.resize_(64, 784)\n",
        "\n",
        "# Clear the gradients, do this because gradients are accumulated\n",
        "optimizer.zero_grad()\n",
        "\n",
        "# Forward pass, then backward pass, then update weights\n",
        "output = model(images)\n",
        "loss = criterion(output, labels)\n",
        "loss.backward()\n",
        "print('Gradient -', model[0].weight.grad)"
      ],
      "execution_count": 0,
      "outputs": [
        {
          "output_type": "stream",
          "text": [
            "Initial weights -  Parameter containing:\n",
            "tensor([[ 1.9790e-02, -8.3396e-03, -1.6958e-02,  ..., -4.2878e-05,\n",
            "          2.3379e-02,  5.5667e-03],\n",
            "        [ 2.1647e-02,  2.7308e-03,  1.2207e-02,  ...,  2.9791e-02,\n",
            "          5.1376e-03,  2.3835e-02],\n",
            "        [ 2.2342e-02,  5.1012e-03, -4.2130e-03,  ..., -3.1117e-03,\n",
            "         -7.0995e-03, -2.5348e-02],\n",
            "        ...,\n",
            "        [ 1.4084e-02, -9.7710e-03,  6.0779e-03,  ...,  5.4476e-03,\n",
            "          1.2320e-02,  1.7704e-02],\n",
            "        [-2.4664e-02, -2.4701e-03, -2.8551e-02,  ...,  2.2403e-02,\n",
            "         -3.5173e-02,  2.1630e-02],\n",
            "        [ 8.5211e-03,  7.2085e-03, -7.3421e-03,  ...,  1.3559e-02,\n",
            "          6.0507e-03, -2.7050e-02]], requires_grad=True)\n",
            "Gradient - tensor([[-0.0005, -0.0005, -0.0005,  ..., -0.0005, -0.0005, -0.0005],\n",
            "        [-0.0032, -0.0032, -0.0032,  ..., -0.0032, -0.0032, -0.0032],\n",
            "        [ 0.0007,  0.0007,  0.0007,  ...,  0.0007,  0.0007,  0.0007],\n",
            "        ...,\n",
            "        [ 0.0000,  0.0000,  0.0000,  ...,  0.0000,  0.0000,  0.0000],\n",
            "        [ 0.0005,  0.0005,  0.0005,  ...,  0.0005,  0.0005,  0.0005],\n",
            "        [ 0.0002,  0.0002,  0.0002,  ...,  0.0002,  0.0002,  0.0002]])\n"
          ],
          "name": "stdout"
        }
      ]
    },
    {
      "cell_type": "code",
      "metadata": {
        "id": "sH0TVn3WJMjV",
        "colab_type": "code",
        "outputId": "16b9849b-465e-433b-f9a3-97c6e96b7fdd",
        "colab": {
          "base_uri": "https://localhost:8080/",
          "height": 263
        }
      },
      "source": [
        "# Take an update step and few the new weights\n",
        "optimizer.step()\n",
        "print('Updated weights - ', model[0].weight)"
      ],
      "execution_count": 0,
      "outputs": [
        {
          "output_type": "stream",
          "text": [
            "Updated weights -  Parameter containing:\n",
            "tensor([[ 1.9791e-02, -8.3382e-03, -1.6956e-02,  ..., -4.1455e-05,\n",
            "          2.3380e-02,  5.5681e-03],\n",
            "        [ 2.1657e-02,  2.7405e-03,  1.2217e-02,  ...,  2.9801e-02,\n",
            "          5.1472e-03,  2.3845e-02],\n",
            "        [ 2.2340e-02,  5.0992e-03, -4.2150e-03,  ..., -3.1137e-03,\n",
            "         -7.1015e-03, -2.5350e-02],\n",
            "        ...,\n",
            "        [ 1.4084e-02, -9.7710e-03,  6.0779e-03,  ...,  5.4476e-03,\n",
            "          1.2320e-02,  1.7704e-02],\n",
            "        [-2.4666e-02, -2.4717e-03, -2.8553e-02,  ...,  2.2401e-02,\n",
            "         -3.5174e-02,  2.1629e-02],\n",
            "        [ 8.5204e-03,  7.2078e-03, -7.3428e-03,  ...,  1.3559e-02,\n",
            "          6.0500e-03, -2.7051e-02]], requires_grad=True)\n"
          ],
          "name": "stdout"
        }
      ]
    },
    {
      "cell_type": "markdown",
      "metadata": {
        "id": "ZfZDwnsDJ4CF",
        "colab_type": "text"
      },
      "source": [
        "Now let's run this many times, in epochs, to increase accuracy."
      ]
    },
    {
      "cell_type": "code",
      "metadata": {
        "id": "JyGr-0lgJ9nE",
        "colab_type": "code",
        "outputId": "578a1b45-93d3-418f-debb-196cd52d4a6b",
        "colab": {
          "base_uri": "https://localhost:8080/",
          "height": 105
        }
      },
      "source": [
        "epochs = 5\n",
        "for e in range(epochs):\n",
        "    running_loss = 0\n",
        "    for images, labels in trainloader:\n",
        "        # Flatten MNIST images into a 784 long vector\n",
        "        images = images.view(images.shape[0], -1)\n",
        "    \n",
        "        # TODO: Training pass\n",
        "        optimizer.zero_grad()\n",
        "        \n",
        "        output = model(images)\n",
        "        loss = criterion(output, labels)\n",
        "        loss.backward()\n",
        "        optimizer.step()\n",
        "        \n",
        "        running_loss += loss.item()\n",
        "    else:\n",
        "        print(f\"Training loss: {running_loss/len(trainloader)}\")"
      ],
      "execution_count": 0,
      "outputs": [
        {
          "output_type": "stream",
          "text": [
            "Training loss: 1.8607617218865515\n",
            "Training loss: 0.8136474461253009\n",
            "Training loss: 0.5072553719221148\n",
            "Training loss: 0.4164863346355048\n",
            "Training loss: 0.37475872050915193\n"
          ],
          "name": "stdout"
        }
      ]
    },
    {
      "cell_type": "code",
      "metadata": {
        "id": "Cw0Bo9IGKJv_",
        "colab_type": "code",
        "outputId": "7ebf703c-c70e-4ae4-d323-ecb10a660ebf",
        "colab": {
          "base_uri": "https://localhost:8080/",
          "height": 244
        }
      },
      "source": [
        "%matplotlib inline\n",
        "\n",
        "images, labels = next(iter(trainloader))\n",
        "\n",
        "img = images[0].view(1, 784)\n",
        "# Turn off gradients to speed up this part\n",
        "with torch.no_grad():\n",
        "    logps = model(img)\n",
        "\n",
        "# Output of the network are log-probabilities, need to take exponential for probabilities\n",
        "ps = torch.exp(logps)\n",
        "view_classify(img.view(1, 28, 28), ps)"
      ],
      "execution_count": 0,
      "outputs": [
        {
          "output_type": "display_data",
          "data": {
            "image/png": "[encoded data removed]",
            "text/plain": [
              "<Figure size 432x648 with 2 Axes>"
            ]
          },
          "metadata": {
            "tags": []
          }
        }
      ]
    }
  ]
}