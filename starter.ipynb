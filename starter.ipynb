{
  "nbformat": 4,
  "nbformat_minor": 0,
  "metadata": {
    "colab": {
      "name": "starter.ipynb",
      "version": "0.3.2",
      "provenance": [],
      "include_colab_link": true
    },
    "language_info": {
      "codemirror_mode": {
        "name": "ipython",
        "version": 3
      },
      "file_extension": ".py",
      "mimetype": "text/x-python",
      "name": "python",
      "nbconvert_exporter": "python",
      "pygments_lexer": "ipython3",
      "version": "3.7.3"
    },
    "kernelspec": {
      "display_name": "'Python Interactive'",
      "language": "python",
      "name": "4402cbc7-7940-4466-9f0f-fec540acd575"
    },
    "accelerator": "GPU"
  },
  "cells": [
    {
      "cell_type": "markdown",
      "metadata": {
        "id": "view-in-github",
        "colab_type": "text"
      },
      "source": [
        "<a href=\"https://colab.research.google.com/github/philxhuang/udacity-projects/blob/master/starter.ipynb\" target=\"_parent\"><img src=\"https://colab.research.google.com/assets/colab-badge.svg\" alt=\"Open In Colab\"/></a>"
      ]
    },
    {
      "cell_type": "markdown",
      "metadata": {
        "id": "swtQeAwXp4L5",
        "colab_type": "text"
      },
      "source": [
        "# Starter: Basic Data Manipulation"
      ]
    },
    {
      "cell_type": "markdown",
      "metadata": {
        "id": "MQW30FsXp4L6",
        "colab_type": "text"
      },
      "source": [
        "All the source codes are provided by Udacity. The codes are also modified by me to facilitate learning so the codes below should be easier to understand than random OOP attributes."
      ]
    },
    {
      "cell_type": "code",
      "metadata": {
        "id": "iOU4Oi5Yp4L6",
        "colab_type": "code",
        "colab": {}
      },
      "source": [
        "import torch\n",
        "import torchvision"
      ],
      "execution_count": 0,
      "outputs": []
    },
    {
      "cell_type": "code",
      "metadata": {
        "id": "-LLQjr8ep4L9",
        "colab_type": "code",
        "colab": {}
      },
      "source": [
        "def activation(x):\n",
        "    \"\"\" Sigmoid activation function \n",
        "    \n",
        "        Arguments\n",
        "        ---------\n",
        "        x: torch.Tensor\n",
        "    \"\"\"\n",
        "    return 1/(1+torch.exp(-x))"
      ],
      "execution_count": 0,
      "outputs": []
    },
    {
      "cell_type": "code",
      "metadata": {
        "id": "TDeBs6P8p4L_",
        "colab_type": "code",
        "colab": {},
        "outputId": "1a2b59c6-866a-4b8f-c290-2fdafdc23f37"
      },
      "source": [
        "### Generate some data\n",
        "torch.manual_seed(10) # Set the random seed so things are predictable\n",
        "\n",
        "# setting a seed has to do with how python generates pseudo \"random\" data, read more on your own\n",
        "\n",
        "# Features are 5 random normal variables\n",
        "features = torch.randn((1, 5)) # create [1,5] matrix/row vector\n",
        "print(features)\n",
        "# True weights for our data, random normal variables again\n",
        "weights = torch.randn_like(features) # create a matrix with the same (dimension)\n",
        "print(weights)\n",
        "# and a true bias term\n",
        "bias = torch.randn((1, 1)) # this is a [1,1] dot vector as bias\n",
        "print(bias)"
      ],
      "execution_count": 0,
      "outputs": [
        {
          "output_type": "stream",
          "text": [
            "tensor([[-0.6014, -1.0122, -0.3023, -1.2277,  0.9198]])\n",
            "tensor([[-0.3485, -0.8692, -0.9582, -1.1920,  1.9050]])\n",
            "tensor([[-0.9373]])\n"
          ],
          "name": "stdout"
        }
      ]
    },
    {
      "cell_type": "code",
      "metadata": {
        "id": "OP-6FrTmp4ME",
        "colab_type": "code",
        "colab": {}
      },
      "source": [
        "# Now, make our labels from our data and true weights\n",
        "'''\n",
        "y = activation(torch.sum(features * weights) + bias)\n",
        "y = activation((features * weights).sum() + bias)\n",
        "'''\n",
        "# this is the most basic way to do it, but we can write cleaner code"
      ],
      "execution_count": 0,
      "outputs": []
    },
    {
      "cell_type": "code",
      "metadata": {
        "id": "5wtQEJqBp4MG",
        "colab_type": "code",
        "colab": {}
      },
      "source": [
        "# This is much cleane\n",
        "'''\n",
        "torch.mm() does not broadcast, only for 2-d\n",
        "torch.matmal() does broad cast, for higher demensions\n",
        "'''\n",
        "\n",
        "#                         [1,5]    *    [5,1]          [1]\n",
        "y = activation(torch.mm(features, weights.view(5,1)) + bias)\n",
        "print(\"one forward pass creates the inner/dot product at\", y)"
      ],
      "execution_count": 0,
      "outputs": []
    },
    {
      "cell_type": "markdown",
      "metadata": {
        "id": "OdQQRblip4MI",
        "colab_type": "text"
      },
      "source": [
        "What we just did is to create a super simple neural network with one weight matrix (1 layer) and pass all the weights for only once.\n",
        "\n",
        "Now let's create a network with 2 layers. Notice that layers will decrease over time because in **THIS PARTICULAR EXERCISE**, we want our input matrices to come out as an inner product."
      ]
    },
    {
      "cell_type": "code",
      "metadata": {
        "id": "4oxensrUp4MJ",
        "colab_type": "code",
        "colab": {},
        "outputId": "59137718-4e92-4322-c4ea-c96bdd529c0c"
      },
      "source": [
        "### Generate some data\n",
        "torch.manual_seed(10) # Set the random seed so things are predictable\n",
        "\n",
        "# Features are 3 random normal variables\n",
        "features = torch.randn((1, 3)) # dimension [1,3]\n",
        "print('features: ', features)\n",
        "\n",
        "# Define the size of each layer in our network\n",
        "n_input = features.shape[1]     # Number of input units, must match number of input features\n",
        "n_hidden = 2                    # Number of hidden units \n",
        "n_output = 1                    # Number of output units\n",
        "\n",
        "# Weights for inputs to hidden layer, [3,2]\n",
        "W1 = torch.randn(n_input, n_hidden)\n",
        "print('W1: ', W1)\n",
        "# Weights for hidden layer to output layer, [2,1]\n",
        "W2 = torch.randn(n_hidden, n_output)\n",
        "print('W2:', W2)\n",
        "\n",
        "# and bias terms for hidden and output layers, [1,# of columns]\n",
        "B1 = torch.randn((1, n_hidden))\n",
        "B2 = torch.randn((1, n_output))\n",
        "print(B1, B2)"
      ],
      "execution_count": 0,
      "outputs": [
        {
          "output_type": "stream",
          "text": [
            "features:  tensor([[-0.6014, -1.0122, -0.3023]])\n",
            "W1:  tensor([[-1.2277,  0.9198],\n",
            "        [-0.3485, -0.8692],\n",
            "        [-0.9582, -1.1920]])\n",
            "W2: tensor([[ 1.9050],\n",
            "        [-0.9373]])\n",
            "tensor([[-0.8465,  2.2678]]) tensor([[1.3615]])\n"
          ],
          "name": "stdout"
        }
      ]
    },
    {
      "cell_type": "code",
      "metadata": {
        "id": "C8IYnzgLp4MM",
        "colab_type": "code",
        "colab": {},
        "outputId": "cc109104-630b-4e33-f577-eb51c0781c2f"
      },
      "source": [
        "# Now pass through the matrix in order\n",
        "h = activation(torch.mm(features, W1) + B1)\n",
        "output = activation(torch.mm(h, W2) + B2)\n",
        "print(output)"
      ],
      "execution_count": 0,
      "outputs": [
        {
          "output_type": "stream",
          "text": [
            "tensor([[0.8418]])\n"
          ],
          "name": "stdout"
        }
      ]
    },
    {
      "cell_type": "markdown",
      "metadata": {
        "id": "6ou8IG_Ep4MP",
        "colab_type": "text"
      },
      "source": [
        "# Bonus: Numpy-Torch Conversion"
      ]
    },
    {
      "cell_type": "code",
      "metadata": {
        "id": "b2CxgflWp4MQ",
        "colab_type": "code",
        "colab": {},
        "outputId": "9beb6654-0e0a-49f5-dd8d-132e1db23e76"
      },
      "source": [
        "import numpy as np\n",
        "a = np.random.rand(4,3)\n",
        "print('a is a numpy array', a)"
      ],
      "execution_count": 0,
      "outputs": [
        {
          "output_type": "stream",
          "text": [
            "a is a numpy array [[0.10095489 0.76270623 0.55811593]\n",
            " [0.21965487 0.64618914 0.97226516]\n",
            " [0.44624574 0.097585   0.68014355]\n",
            " [0.25989595 0.9154791  0.87402775]]\n"
          ],
          "name": "stdout"
        }
      ]
    },
    {
      "cell_type": "code",
      "metadata": {
        "id": "tqtaGq8Mp4MT",
        "colab_type": "code",
        "colab": {},
        "outputId": "6de88d69-bb36-46e9-e6a9-c33942702221"
      },
      "source": [
        "b = torch.from_numpy(a)\n",
        "print('b is a torch tensor object converted from numpy array', b)"
      ],
      "execution_count": 0,
      "outputs": [
        {
          "output_type": "stream",
          "text": [
            "b is a torch tensor object converted from numpy array tensor([[0.1010, 0.7627, 0.5581],\n",
            "        [0.2197, 0.6462, 0.9723],\n",
            "        [0.4462, 0.0976, 0.6801],\n",
            "        [0.2599, 0.9155, 0.8740]], dtype=torch.float64)\n"
          ],
          "name": "stdout"
        }
      ]
    },
    {
      "cell_type": "code",
      "metadata": {
        "id": "Sk0HQdIDp4MW",
        "colab_type": "code",
        "colab": {},
        "outputId": "43555d7a-7621-469b-a027-bd712690dbc1"
      },
      "source": [
        "c = b.numpy()\n",
        "print('c is a new variable, converted back to numpy array', c)"
      ],
      "execution_count": 0,
      "outputs": [
        {
          "output_type": "stream",
          "text": [
            "c is a new variable, converted back to numpy array [[0.20190979 1.52541245 1.11623186]\n",
            " [0.43930974 1.29237829 1.94453031]\n",
            " [0.89249147 0.19516999 1.36028709]\n",
            " [0.51979189 1.83095821 1.7480555 ]]\n"
          ],
          "name": "stdout"
        }
      ]
    },
    {
      "cell_type": "code",
      "metadata": {
        "id": "gannQqXcp4MZ",
        "colab_type": "code",
        "colab": {},
        "outputId": "53b606dc-b1cd-4319-c52f-392394ac214c"
      },
      "source": [
        "# Multiply PyTorch Tensor by 2, in place\n",
        "b.mul_(2)\n",
        "# Please know that this method is pretty old-fashioned.\n",
        "# For more, please go learn BROADCASTING."
      ],
      "execution_count": 0,
      "outputs": [
        {
          "output_type": "execute_result",
          "data": {
            "text/plain": [
              "tensor([[0.4038, 3.0508, 2.2325],\n",
              "        [0.8786, 2.5848, 3.8891],\n",
              "        [1.7850, 0.3903, 2.7206],\n",
              "        [1.0396, 3.6619, 3.4961]], dtype=torch.float64)"
            ]
          },
          "metadata": {
            "tags": []
          },
          "execution_count": 45
        }
      ]
    },
    {
      "cell_type": "code",
      "metadata": {
        "id": "F9SraSpFp4Mc",
        "colab_type": "code",
        "colab": {},
        "outputId": "b7fa493b-6401-4c72-efac-b2b27368cf35"
      },
      "source": [
        "print(a)\n",
        "print(b, 'is the same as an alised a array')\n",
        "print(c)\n",
        "'''\n",
        "Unfortunately, the method torch.from_numpy shares the same memory.\n",
        "The best approch is use something like tensor(), not Tensor()\n",
        "Please do understand these subtle differences. Check out the documentation.\n",
        "'''"
      ],
      "execution_count": 0,
      "outputs": [
        {
          "output_type": "stream",
          "text": [
            "[[0.40381958 3.05082491 2.23246373]\n",
            " [0.87861948 2.58475657 3.88906063]\n",
            " [1.78498294 0.39033999 2.72057418]\n",
            " [1.03958378 3.66191642 3.496111  ]]\n",
            "tensor([[0.4038, 3.0508, 2.2325],\n",
            "        [0.8786, 2.5848, 3.8891],\n",
            "        [1.7850, 0.3903, 2.7206],\n",
            "        [1.0396, 3.6619, 3.4961]], dtype=torch.float64) is the same as an alised a array\n",
            "[[0.40381958 3.05082491 2.23246373]\n",
            " [0.87861948 2.58475657 3.88906063]\n",
            " [1.78498294 0.39033999 2.72057418]\n",
            " [1.03958378 3.66191642 3.496111  ]]\n"
          ],
          "name": "stdout"
        },
        {
          "output_type": "execute_result",
          "data": {
            "text/plain": [
              "'\\nUnfortunately, the method torch.from_numpy shares the same memory.\\nThe best approch is use something like tensor(), not Tensor()\\nPlease do understand these subtle differences. Check out the documentation.\\n'"
            ]
          },
          "metadata": {
            "tags": []
          },
          "execution_count": 48
        }
      ]
    },
    {
      "cell_type": "markdown",
      "metadata": {
        "id": "MzaM7Jg8p4Me",
        "colab_type": "text"
      },
      "source": [
        "End of Lession"
      ]
    }
  ]
}