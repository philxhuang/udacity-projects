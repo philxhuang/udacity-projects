{
  "nbformat": 4,
  "nbformat_minor": 0,
  "metadata": {
    "colab": {
      "name": "5-InferenceValidation.ipynb",
      "version": "0.3.2",
      "provenance": [],
      "collapsed_sections": [],
      "include_colab_link": true
    },
    "kernelspec": {
      "name": "python3",
      "display_name": "Python 3"
    },
    "accelerator": "GPU"
  },
  "cells": [
    {
      "cell_type": "markdown",
      "metadata": {
        "id": "view-in-github",
        "colab_type": "text"
      },
      "source": [
        "<a href=\"https://colab.research.google.com/github/philxhuang/udacity-projects/blob/master/5_InferenceValidation.ipynb\" target=\"_parent\"><img src=\"https://colab.research.google.com/assets/colab-badge.svg\" alt=\"Open In Colab\"/></a>"
      ]
    },
    {
      "cell_type": "markdown",
      "metadata": {
        "id": "kVzwCpNNL3Yt",
        "colab_type": "text"
      },
      "source": [
        "# Inference and Validation Techniques"
      ]
    },
    {
      "cell_type": "markdown",
      "metadata": {
        "id": "PiF81gjOUgBu",
        "colab_type": "text"
      },
      "source": [
        "## Basics for Showing Loss & Performance"
      ]
    },
    {
      "cell_type": "code",
      "metadata": {
        "id": "8gTXDCkIIqV_",
        "colab_type": "code",
        "colab": {}
      },
      "source": [
        "import torch\n",
        "from torchvision import datasets, transforms\n",
        "\n",
        "import numpy as np\n",
        "import matplotlib.pyplot as plt"
      ],
      "execution_count": 0,
      "outputs": []
    },
    {
      "cell_type": "code",
      "metadata": {
        "id": "27FEyKpjIwub",
        "colab_type": "code",
        "colab": {}
      },
      "source": [
        "def view_classify(img, ps, version=\"MNIST\"):\n",
        "   ''' Function for viewing an image and it's predicted classes.\n",
        "   '''\n",
        "   ps = ps.data.numpy().squeeze()\n",
        "\n",
        "   fig, (ax1, ax2) = plt.subplots(figsize=(6,9), ncols=2)\n",
        "   ax1.imshow(img.resize_(1, 28, 28).numpy().squeeze())\n",
        "   ax1.axis('off')\n",
        "   ax2.barh(np.arange(10), ps)\n",
        "   ax2.set_aspect(0.1)\n",
        "   ax2.set_yticks(np.arange(10))\n",
        "   if version == \"MNIST\":\n",
        "       ax2.set_yticklabels(np.arange(10))\n",
        "   elif version == \"Fashion\":\n",
        "       ax2.set_yticklabels(['T-shirt/top',\n",
        "                           'Trouser',\n",
        "                           'Pullover',\n",
        "                           'Dress',\n",
        "                           'Coat',\n",
        "                           'Sandal',\n",
        "                           'Shirt',\n",
        "                           'Sneaker',\n",
        "                           'Bag',\n",
        "                           'Ankle Boot'], size='small');\n",
        "   ax2.set_title('Class Probability')\n",
        "   ax2.set_xlim(0, 1.1)\n",
        "\n",
        "   plt.tight_layout()"
      ],
      "execution_count": 0,
      "outputs": []
    },
    {
      "cell_type": "code",
      "metadata": {
        "id": "g6qq5vJ6Ix5B",
        "colab_type": "code",
        "colab": {}
      },
      "source": [
        "# Define a transform to normalize the data\n",
        "transform = transforms.Compose([transforms.ToTensor(),\n",
        "                                transforms.Normalize((0.5,), (0.5,))])\n",
        "# Download and load the training data\n",
        "trainset = datasets.FashionMNIST('~/.pytorch/F_MNIST_data/', download=True, train=True, transform=transform)\n",
        "trainloader = torch.utils.data.DataLoader(trainset, batch_size=64, shuffle=True)\n",
        "\n",
        "# Download and load the test data\n",
        "testset = datasets.FashionMNIST('~/.pytorch/F_MNIST_data/', download=True, train=False, transform=transform)\n",
        "testloader = torch.utils.data.DataLoader(testset, batch_size=64, shuffle=True)"
      ],
      "execution_count": 0,
      "outputs": []
    },
    {
      "cell_type": "code",
      "metadata": {
        "id": "pjmKJoWNIzhC",
        "colab_type": "code",
        "colab": {}
      },
      "source": [
        "from torch import nn, optim\n",
        "import torch.nn.functional as F"
      ],
      "execution_count": 0,
      "outputs": []
    },
    {
      "cell_type": "code",
      "metadata": {
        "id": "dGq4q_hpJAsJ",
        "colab_type": "code",
        "colab": {}
      },
      "source": [
        "class Classifier(nn.Module):\n",
        "  def __init__(self):\n",
        "    super().__init__()\n",
        "    self.fc1 = nn.Linear(784, 256)\n",
        "    self.fc2 = nn.Linear(256, 128)\n",
        "    self.fc3 = nn.Linear(128, 64)\n",
        "    self.fc4 = nn.Linear(64, 10)\n",
        "    \n",
        "  def forward(self, x):\n",
        "    # faltten the tensors in the trainset first\n",
        "    x = x.view(x.shape[0], -1)\n",
        "    \n",
        "    x = F.relu(self.fc1(x))\n",
        "    x = F.relu(self.fc2(x))\n",
        "    x = F.relu(self.fc3(x))\n",
        "    x = F.log_softmax(self.fc4(x), dim=1)\n",
        "    \n",
        "    return x"
      ],
      "execution_count": 0,
      "outputs": []
    },
    {
      "cell_type": "code",
      "metadata": {
        "id": "b3mr9nbtJCOw",
        "colab_type": "code",
        "colab": {}
      },
      "source": [
        "model = Classifier()\n",
        "criterion = nn.NLLLoss()\n",
        "optimizer = optim.Adam(model.parameters(), lr=0.003)"
      ],
      "execution_count": 0,
      "outputs": []
    },
    {
      "cell_type": "markdown",
      "metadata": {
        "id": "yG7EWgh_L9dV",
        "colab_type": "text"
      },
      "source": [
        "Here we can see our test set is the same size as the trainset, only that we are not putting it through the training process with gradient descent that would change the wights of the model.\n",
        "\n",
        "After passing through a test batch, we should see that the untrained model doesn't perform well."
      ]
    },
    {
      "cell_type": "code",
      "metadata": {
        "id": "Sb_SCC_7La5K",
        "colab_type": "code",
        "colab": {
          "base_uri": "https://localhost:8080/",
          "height": 35
        },
        "outputId": "0f16ce55-f7e2-4ee2-878c-d850d9c8ba80"
      },
      "source": [
        "images, labels = next(iter(testloader))\n",
        "# Get the class probabilities\n",
        "ps = torch.exp(model(images))\n",
        "# Make sure the shape is appropriate, we should get 10 class probabilities for 64 examples\n",
        "print(ps.shape)"
      ],
      "execution_count": 7,
      "outputs": [
        {
          "output_type": "stream",
          "text": [
            "torch.Size([64, 10])\n"
          ],
          "name": "stdout"
        }
      ]
    },
    {
      "cell_type": "markdown",
      "metadata": {
        "id": "SVZcYxdKMMVM",
        "colab_type": "text"
      },
      "source": [
        "Now we use topk to find the largest prediction in the second column, which are labels."
      ]
    },
    {
      "cell_type": "code",
      "metadata": {
        "id": "mVDZ0CLsJDv6",
        "colab_type": "code",
        "colab": {
          "base_uri": "https://localhost:8080/",
          "height": 228
        },
        "outputId": "e1bb6abe-421c-4dac-c59f-d0dd72320522"
      },
      "source": [
        "top_p, top_class = ps.topk(1, dim=1)\n",
        "# Look at the most likely classes for the first 10 examples\n",
        "print(top_p.shape)\n",
        "print(top_class.shape)\n",
        "print(top_class[:10,:]) # only looking at the first 10 predictions"
      ],
      "execution_count": 8,
      "outputs": [
        {
          "output_type": "stream",
          "text": [
            "torch.Size([64, 1])\n",
            "torch.Size([64, 1])\n",
            "tensor([[5],\n",
            "        [5],\n",
            "        [5],\n",
            "        [5],\n",
            "        [5],\n",
            "        [5],\n",
            "        [5],\n",
            "        [5],\n",
            "        [5],\n",
            "        [5]])\n"
          ],
          "name": "stdout"
        }
      ]
    },
    {
      "cell_type": "markdown",
      "metadata": {
        "id": "fG0mNPkMNN7H",
        "colab_type": "text"
      },
      "source": [
        "The we can find how many correct predictions are there. This should be low now because our model is untrained."
      ]
    },
    {
      "cell_type": "code",
      "metadata": {
        "id": "YmcXkPXLLkuJ",
        "colab_type": "code",
        "colab": {
          "base_uri": "https://localhost:8080/",
          "height": 211
        },
        "outputId": "0dc7ca8a-69b4-4b1b-c219-c8337904d92a"
      },
      "source": [
        "print(labels.view(*top_class.shape).shape)\n",
        "equals = (top_class == labels.view(*top_class.shape))\n",
        "print(equals[:10,:])"
      ],
      "execution_count": 9,
      "outputs": [
        {
          "output_type": "stream",
          "text": [
            "torch.Size([64, 1])\n",
            "tensor([[0],\n",
            "        [0],\n",
            "        [0],\n",
            "        [0],\n",
            "        [0],\n",
            "        [0],\n",
            "        [0],\n",
            "        [0],\n",
            "        [0],\n",
            "        [0]], dtype=torch.uint8)\n"
          ],
          "name": "stdout"
        }
      ]
    },
    {
      "cell_type": "code",
      "metadata": {
        "id": "h6geBj53LrgF",
        "colab_type": "code",
        "colab": {
          "base_uri": "https://localhost:8080/",
          "height": 35
        },
        "outputId": "8551080c-71a7-48ab-ad0a-9e030a8849f0"
      },
      "source": [
        "accuracy = torch.mean(equals.type(torch.FloatTensor))\n",
        "print(f'Accuracy: {accuracy.item()*100}%')"
      ],
      "execution_count": 10,
      "outputs": [
        {
          "output_type": "stream",
          "text": [
            "Accuracy: 7.8125%\n"
          ],
          "name": "stdout"
        }
      ]
    },
    {
      "cell_type": "markdown",
      "metadata": {
        "id": "mi8gUdYsQRER",
        "colab_type": "text"
      },
      "source": [
        "Now let's start training. Be careful reading the code. Make sure you understand where the training loss and testing loss are."
      ]
    },
    {
      "cell_type": "code",
      "metadata": {
        "id": "CdRsz9-yOSaK",
        "colab_type": "code",
        "colab": {
          "base_uri": "https://localhost:8080/",
          "height": 545
        },
        "outputId": "b8fe3001-89e4-4b42-b3e6-12c47cb6c7b4"
      },
      "source": [
        "epochs = 30\n",
        "steps = 0\n",
        "\n",
        "train_losses, test_losses = [], []\n",
        "for e in range(epochs):\n",
        "    running_loss = 0\n",
        "    for images, labels in trainloader: # trainset\n",
        "        \n",
        "        optimizer.zero_grad()\n",
        "        \n",
        "        log_ps = model(images)\n",
        "        loss = criterion(log_ps, labels)\n",
        "        loss.backward()\n",
        "        optimizer.step()\n",
        "        \n",
        "        running_loss += loss.item()\n",
        "        \n",
        "    else:\n",
        "        test_loss = 0\n",
        "        accuracy = 0\n",
        "        \n",
        "        # Turn off gradients for validation, saves memory and computations\n",
        "        with torch.no_grad():\n",
        "            for images, labels in testloader: # testset\n",
        "                log_ps = model(images)\n",
        "                test_loss += criterion(log_ps, labels)\n",
        "                \n",
        "                ps = torch.exp(log_ps)\n",
        "                top_p, top_class = ps.topk(1, dim=1)\n",
        "                equals = top_class == labels.view(*top_class.shape)\n",
        "                accuracy += torch.mean(equals.type(torch.FloatTensor))\n",
        "                \n",
        "        train_losses.append(running_loss/len(trainloader))\n",
        "        test_losses.append(test_loss/len(testloader))\n",
        "\n",
        "        print(\"Epoch: {}/{}.. \".format(e+1, epochs),\n",
        "              \"Training Loss: {:.3f}.. \".format(running_loss/len(trainloader)),\n",
        "              \"Test Loss: {:.3f}.. \".format(test_loss/len(testloader)),\n",
        "              \"Test Accuracy: {:.3f}\".format(accuracy/len(testloader)))"
      ],
      "execution_count": 11,
      "outputs": [
        {
          "output_type": "stream",
          "text": [
            "Epoch: 1/30..  Training Loss: 0.512..  Test Loss: 0.472..  Test Accuracy: 0.830\n",
            "Epoch: 2/30..  Training Loss: 0.390..  Test Loss: 0.423..  Test Accuracy: 0.844\n",
            "Epoch: 3/30..  Training Loss: 0.351..  Test Loss: 0.383..  Test Accuracy: 0.861\n",
            "Epoch: 4/30..  Training Loss: 0.328..  Test Loss: 0.395..  Test Accuracy: 0.860\n",
            "Epoch: 5/30..  Training Loss: 0.317..  Test Loss: 0.373..  Test Accuracy: 0.870\n",
            "Epoch: 6/30..  Training Loss: 0.299..  Test Loss: 0.386..  Test Accuracy: 0.866\n",
            "Epoch: 7/30..  Training Loss: 0.288..  Test Loss: 0.377..  Test Accuracy: 0.867\n",
            "Epoch: 8/30..  Training Loss: 0.280..  Test Loss: 0.374..  Test Accuracy: 0.866\n",
            "Epoch: 9/30..  Training Loss: 0.277..  Test Loss: 0.382..  Test Accuracy: 0.867\n",
            "Epoch: 10/30..  Training Loss: 0.268..  Test Loss: 0.372..  Test Accuracy: 0.876\n",
            "Epoch: 11/30..  Training Loss: 0.261..  Test Loss: 0.371..  Test Accuracy: 0.876\n",
            "Epoch: 12/30..  Training Loss: 0.256..  Test Loss: 0.359..  Test Accuracy: 0.875\n",
            "Epoch: 13/30..  Training Loss: 0.242..  Test Loss: 0.364..  Test Accuracy: 0.876\n",
            "Epoch: 14/30..  Training Loss: 0.243..  Test Loss: 0.361..  Test Accuracy: 0.879\n",
            "Epoch: 15/30..  Training Loss: 0.235..  Test Loss: 0.355..  Test Accuracy: 0.883\n",
            "Epoch: 16/30..  Training Loss: 0.233..  Test Loss: 0.363..  Test Accuracy: 0.886\n",
            "Epoch: 17/30..  Training Loss: 0.228..  Test Loss: 0.361..  Test Accuracy: 0.880\n",
            "Epoch: 18/30..  Training Loss: 0.218..  Test Loss: 0.370..  Test Accuracy: 0.885\n",
            "Epoch: 19/30..  Training Loss: 0.217..  Test Loss: 0.370..  Test Accuracy: 0.883\n",
            "Epoch: 20/30..  Training Loss: 0.215..  Test Loss: 0.390..  Test Accuracy: 0.881\n",
            "Epoch: 21/30..  Training Loss: 0.210..  Test Loss: 0.371..  Test Accuracy: 0.886\n",
            "Epoch: 22/30..  Training Loss: 0.206..  Test Loss: 0.393..  Test Accuracy: 0.885\n",
            "Epoch: 23/30..  Training Loss: 0.202..  Test Loss: 0.418..  Test Accuracy: 0.883\n",
            "Epoch: 24/30..  Training Loss: 0.201..  Test Loss: 0.390..  Test Accuracy: 0.884\n",
            "Epoch: 25/30..  Training Loss: 0.199..  Test Loss: 0.387..  Test Accuracy: 0.886\n",
            "Epoch: 26/30..  Training Loss: 0.195..  Test Loss: 0.413..  Test Accuracy: 0.873\n",
            "Epoch: 27/30..  Training Loss: 0.188..  Test Loss: 0.427..  Test Accuracy: 0.881\n",
            "Epoch: 28/30..  Training Loss: 0.187..  Test Loss: 0.412..  Test Accuracy: 0.884\n",
            "Epoch: 29/30..  Training Loss: 0.193..  Test Loss: 0.412..  Test Accuracy: 0.887\n",
            "Epoch: 30/30..  Training Loss: 0.180..  Test Loss: 0.431..  Test Accuracy: 0.888\n"
          ],
          "name": "stdout"
        }
      ]
    },
    {
      "cell_type": "code",
      "metadata": {
        "id": "_eWoswvwStDs",
        "colab_type": "code",
        "colab": {
          "base_uri": "https://localhost:8080/",
          "height": 287
        },
        "outputId": "4cc86305-9e83-4ea5-8f12-74d851d55146"
      },
      "source": [
        "plt.plot(train_losses, label='Training loss')\n",
        "plt.plot(test_losses, label='Validation loss')\n",
        "plt.legend(frameon=False)"
      ],
      "execution_count": 12,
      "outputs": [
        {
          "output_type": "execute_result",
          "data": {
            "text/plain": [
              "<matplotlib.legend.Legend at 0x7fc936d4e8d0>"
            ]
          },
          "metadata": {
            "tags": []
          },
          "execution_count": 12
        },
        {
          "output_type": "display_data",
          "data": {
            "image/png": "[encoded data removed]",
            "text/plain": [
              "<Figure size 432x288 with 1 Axes>"
            ]
          },
          "metadata": {
            "tags": []
          }
        }
      ]
    },
    {
      "cell_type": "markdown",
      "metadata": {
        "id": "t1nFs9MNUsyO",
        "colab_type": "text"
      },
      "source": [
        "The regular model starts to over fit around 15 epoches, as validation loss starts to increase visibly. At this point is where the test loss starts to increase back up too."
      ]
    },
    {
      "cell_type": "markdown",
      "metadata": {
        "id": "IA2swwE4VBcs",
        "colab_type": "text"
      },
      "source": [
        "## Solution: Rebuilding NN with Dropout Methods"
      ]
    },
    {
      "cell_type": "markdown",
      "metadata": {
        "id": "yrm263_HVo4q",
        "colab_type": "text"
      },
      "source": [
        "Now we extrat the Dropout model from torch.nn. Apply it to all linear layers except the last one. Wrap them around the linear layers after applying ReLU to turn them off. The probability of a node/neuron getting turned off is 0.2=20%."
      ]
    },
    {
      "cell_type": "code",
      "metadata": {
        "id": "p2zCxmfQUb2n",
        "colab_type": "code",
        "colab": {}
      },
      "source": [
        "class Classifier(nn.Module):\n",
        "    def __init__(self):\n",
        "        super().__init__()\n",
        "        self.fc1 = nn.Linear(784, 256)\n",
        "        self.fc2 = nn.Linear(256, 128)\n",
        "        self.fc3 = nn.Linear(128, 64)\n",
        "        self.fc4 = nn.Linear(64, 10)\n",
        "\n",
        "        # Dropout module with 0.2 drop probability\n",
        "        self.dropout = nn.Dropout(p=0.2)\n",
        "\n",
        "    def forward(self, x):\n",
        "        # make sure input tensor is flattened\n",
        "        x = x.view(x.shape[0], -1)\n",
        "\n",
        "        # Now with dropout\n",
        "        x = self.dropout(F.relu(self.fc1(x)))\n",
        "        x = self.dropout(F.relu(self.fc2(x)))\n",
        "        x = self.dropout(F.relu(self.fc3(x)))\n",
        "\n",
        "        # output so no dropout here\n",
        "        x = F.log_softmax(self.fc4(x), dim=1)\n",
        "\n",
        "        return x"
      ],
      "execution_count": 0,
      "outputs": []
    },
    {
      "cell_type": "markdown",
      "metadata": {
        "id": "K2aCpAZ9WP-O",
        "colab_type": "text"
      },
      "source": [
        "Here we turn off dropouts by model.eval() so model is in evaluation mode. After evaluation we turn it on by model.train()."
      ]
    },
    {
      "cell_type": "code",
      "metadata": {
        "id": "END3QGTXVP9e",
        "colab_type": "code",
        "colab": {
          "base_uri": "https://localhost:8080/",
          "height": 545
        },
        "outputId": "16ccc830-a704-444e-e919-bfef716286f0"
      },
      "source": [
        "model = Classifier()\n",
        "criterion = nn.NLLLoss()\n",
        "optimizer = optim.Adam(model.parameters(), lr=0.003)\n",
        "\n",
        "epochs = 30\n",
        "steps = 0\n",
        "\n",
        "train_losses, test_losses = [], []\n",
        "for e in range(epochs):\n",
        "    running_loss = 0\n",
        "    for images, labels in trainloader:\n",
        "        \n",
        "        optimizer.zero_grad()\n",
        "        \n",
        "        log_ps = model(images)\n",
        "        loss = criterion(log_ps, labels)\n",
        "        loss.backward()\n",
        "        optimizer.step()\n",
        "        \n",
        "        running_loss += loss.item()\n",
        "        \n",
        "    else:\n",
        "        test_loss = 0\n",
        "        accuracy = 0\n",
        "        \n",
        "        # Turn off gradients for validation, saves memory and computations\n",
        "        with torch.no_grad():\n",
        "            model.eval()\n",
        "            for images, labels in testloader:\n",
        "                log_ps = model(images)\n",
        "                test_loss += criterion(log_ps, labels)\n",
        "                \n",
        "                ps = torch.exp(log_ps)\n",
        "                top_p, top_class = ps.topk(1, dim=1)\n",
        "                equals = top_class == labels.view(*top_class.shape)\n",
        "                accuracy += torch.mean(equals.type(torch.FloatTensor))\n",
        "        \n",
        "        model.train()\n",
        "        \n",
        "        train_losses.append(running_loss/len(trainloader))\n",
        "        test_losses.append(test_loss/len(testloader))\n",
        "\n",
        "        print(\"Epoch: {}/{}.. \".format(e+1, epochs),\n",
        "              \"Training Loss: {:.3f}.. \".format(train_losses[-1]),\n",
        "              \"Test Loss: {:.3f}.. \".format(test_losses[-1]),\n",
        "              \"Test Accuracy: {:.3f}\".format(accuracy/len(testloader)))"
      ],
      "execution_count": 14,
      "outputs": [
        {
          "output_type": "stream",
          "text": [
            "Epoch: 1/30..  Training Loss: 0.603..  Test Loss: 0.460..  Test Accuracy: 0.833\n",
            "Epoch: 2/30..  Training Loss: 0.485..  Test Loss: 0.467..  Test Accuracy: 0.829\n",
            "Epoch: 3/30..  Training Loss: 0.454..  Test Loss: 0.433..  Test Accuracy: 0.842\n",
            "Epoch: 4/30..  Training Loss: 0.432..  Test Loss: 0.434..  Test Accuracy: 0.848\n",
            "Epoch: 5/30..  Training Loss: 0.418..  Test Loss: 0.447..  Test Accuracy: 0.850\n",
            "Epoch: 6/30..  Training Loss: 0.411..  Test Loss: 0.381..  Test Accuracy: 0.863\n",
            "Epoch: 7/30..  Training Loss: 0.400..  Test Loss: 0.407..  Test Accuracy: 0.856\n",
            "Epoch: 8/30..  Training Loss: 0.401..  Test Loss: 0.394..  Test Accuracy: 0.859\n",
            "Epoch: 9/30..  Training Loss: 0.397..  Test Loss: 0.400..  Test Accuracy: 0.861\n",
            "Epoch: 10/30..  Training Loss: 0.389..  Test Loss: 0.387..  Test Accuracy: 0.865\n",
            "Epoch: 11/30..  Training Loss: 0.389..  Test Loss: 0.398..  Test Accuracy: 0.860\n",
            "Epoch: 12/30..  Training Loss: 0.382..  Test Loss: 0.412..  Test Accuracy: 0.850\n",
            "Epoch: 13/30..  Training Loss: 0.379..  Test Loss: 0.394..  Test Accuracy: 0.859\n",
            "Epoch: 14/30..  Training Loss: 0.378..  Test Loss: 0.395..  Test Accuracy: 0.862\n",
            "Epoch: 15/30..  Training Loss: 0.374..  Test Loss: 0.390..  Test Accuracy: 0.860\n",
            "Epoch: 16/30..  Training Loss: 0.368..  Test Loss: 0.380..  Test Accuracy: 0.868\n",
            "Epoch: 17/30..  Training Loss: 0.362..  Test Loss: 0.387..  Test Accuracy: 0.868\n",
            "Epoch: 18/30..  Training Loss: 0.363..  Test Loss: 0.406..  Test Accuracy: 0.867\n",
            "Epoch: 19/30..  Training Loss: 0.363..  Test Loss: 0.380..  Test Accuracy: 0.866\n",
            "Epoch: 20/30..  Training Loss: 0.365..  Test Loss: 0.390..  Test Accuracy: 0.868\n",
            "Epoch: 21/30..  Training Loss: 0.355..  Test Loss: 0.428..  Test Accuracy: 0.858\n",
            "Epoch: 22/30..  Training Loss: 0.360..  Test Loss: 0.388..  Test Accuracy: 0.866\n",
            "Epoch: 23/30..  Training Loss: 0.353..  Test Loss: 0.375..  Test Accuracy: 0.870\n",
            "Epoch: 24/30..  Training Loss: 0.354..  Test Loss: 0.379..  Test Accuracy: 0.868\n",
            "Epoch: 25/30..  Training Loss: 0.352..  Test Loss: 0.403..  Test Accuracy: 0.863\n",
            "Epoch: 26/30..  Training Loss: 0.346..  Test Loss: 0.376..  Test Accuracy: 0.875\n",
            "Epoch: 27/30..  Training Loss: 0.347..  Test Loss: 0.398..  Test Accuracy: 0.869\n",
            "Epoch: 28/30..  Training Loss: 0.352..  Test Loss: 0.396..  Test Accuracy: 0.861\n",
            "Epoch: 29/30..  Training Loss: 0.338..  Test Loss: 0.372..  Test Accuracy: 0.869\n",
            "Epoch: 30/30..  Training Loss: 0.349..  Test Loss: 0.382..  Test Accuracy: 0.872\n"
          ],
          "name": "stdout"
        }
      ]
    },
    {
      "cell_type": "code",
      "metadata": {
        "id": "uqA3polPVmqu",
        "colab_type": "code",
        "colab": {
          "base_uri": "https://localhost:8080/",
          "height": 287
        },
        "outputId": "6b62aaa2-9eff-454c-bc51-6c0ef10be37a"
      },
      "source": [
        "plt.plot(train_losses, label='Training loss')\n",
        "plt.plot(test_losses, label='Validation loss')\n",
        "plt.legend(frameon=False)"
      ],
      "execution_count": 15,
      "outputs": [
        {
          "output_type": "execute_result",
          "data": {
            "text/plain": [
              "<matplotlib.legend.Legend at 0x7fc936e4ca20>"
            ]
          },
          "metadata": {
            "tags": []
          },
          "execution_count": 15
        },
        {
          "output_type": "display_data",
          "data": {
            "image/png": "[encoded data removed]",
            "text/plain": [
              "<Figure size 432x288 with 1 Axes>"
            ]
          },
          "metadata": {
            "tags": []
          }
        }
      ]
    },
    {
      "cell_type": "markdown",
      "metadata": {
        "id": "PAY4cHzZWCaA",
        "colab_type": "text"
      },
      "source": [
        "Now from the graph, we can see the test loss goes down as train loss goes down. This is desirable."
      ]
    },
    {
      "cell_type": "code",
      "metadata": {
        "id": "ZFM1n0c6XDy8",
        "colab_type": "code",
        "colab": {
          "base_uri": "https://localhost:8080/",
          "height": 224
        },
        "outputId": "38899304-aa52-4ee0-927a-b38eee87e21c"
      },
      "source": [
        "# Test out your network!\n",
        "\n",
        "model.eval()\n",
        "\n",
        "dataiter = iter(testloader)\n",
        "images, labels = dataiter.next()\n",
        "img = images[0]\n",
        "# Convert 2D image to 1D vector\n",
        "img = img.view(1, 784)\n",
        "\n",
        "# Calculate the class probabilities (softmax) for img\n",
        "with torch.no_grad():\n",
        "    output = model.forward(img)\n",
        "\n",
        "ps = torch.exp(output)\n",
        "\n",
        "view_classify(img.view(1, 28, 28), ps, version='Fashion')"
      ],
      "execution_count": 16,
      "outputs": [
        {
          "output_type": "display_data",
          "data": {
            "image/png": "[encoded data removed]",
            "text/plain": [
              "<Figure size 432x648 with 2 Axes>"
            ]
          },
          "metadata": {
            "tags": []
          }
        }
      ]
    },
    {
      "cell_type": "markdown",
      "metadata": {
        "id": "DnfGy231Xe47",
        "colab_type": "text"
      },
      "source": [
        "Now our model actually has pretty high accuracy without overfitting."
      ]
    }
  ]
}